{
 "cells": [
  {
   "cell_type": "code",
   "execution_count": 17,
   "id": "studied-worth",
   "metadata": {},
   "outputs": [],
   "source": [
    "# canonical import\n",
    "import pandas as pd\n",
    "import numpy as np\n",
    "import matplotlib.pyplot as plt\n",
    "import seaborn as sns"
   ]
  },
  {
   "cell_type": "code",
   "execution_count": 18,
   "id": "tired-narrative",
   "metadata": {},
   "outputs": [],
   "source": [
    "piramides_df = pd.read_csv('pyramids.csv')"
   ]
  },
  {
   "cell_type": "code",
   "execution_count": 3,
   "id": "special-addiction",
   "metadata": {
    "scrolled": true
   },
   "outputs": [
    {
     "data": {
      "text/plain": [
       "(62, 16)"
      ]
     },
     "execution_count": 3,
     "metadata": {},
     "output_type": "execute_result"
    }
   ],
   "source": [
    "piramides_df.shape"
   ]
  },
  {
   "cell_type": "code",
   "execution_count": 4,
   "id": "productive-scenario",
   "metadata": {},
   "outputs": [
    {
     "data": {
      "text/html": [
       "<div>\n",
       "<style scoped>\n",
       "    .dataframe tbody tr th:only-of-type {\n",
       "        vertical-align: middle;\n",
       "    }\n",
       "\n",
       "    .dataframe tbody tr th {\n",
       "        vertical-align: top;\n",
       "    }\n",
       "\n",
       "    .dataframe thead th {\n",
       "        text-align: right;\n",
       "    }\n",
       "</style>\n",
       "<table border=\"1\" class=\"dataframe\">\n",
       "  <thead>\n",
       "    <tr style=\"text-align: right;\">\n",
       "      <th></th>\n",
       "      <th>Pharaoh</th>\n",
       "      <th>Ancient name</th>\n",
       "      <th>Modern name</th>\n",
       "      <th>Dynasty</th>\n",
       "      <th>Site</th>\n",
       "      <th>Base1 (m)</th>\n",
       "      <th>Base2 (m)</th>\n",
       "      <th>Height (m)</th>\n",
       "      <th>Slope (dec degr)</th>\n",
       "      <th>Volume (cu.m)</th>\n",
       "      <th>Latitude</th>\n",
       "      <th>Longitude</th>\n",
       "      <th>Type</th>\n",
       "      <th>Lepsius</th>\n",
       "      <th>Material</th>\n",
       "      <th>Comment</th>\n",
       "    </tr>\n",
       "  </thead>\n",
       "  <tbody>\n",
       "    <tr>\n",
       "      <th>28</th>\n",
       "      <td>Khentkawes</td>\n",
       "      <td>-</td>\n",
       "      <td>Step tomb of Khentkaus I</td>\n",
       "      <td>4</td>\n",
       "      <td>Giza</td>\n",
       "      <td>35.5</td>\n",
       "      <td>45.8</td>\n",
       "      <td>17.50</td>\n",
       "      <td>74.00</td>\n",
       "      <td>6.372</td>\n",
       "      <td>29.973306</td>\n",
       "      <td>31.135361</td>\n",
       "      <td>Step</td>\n",
       "      <td>LG100</td>\n",
       "      <td>Bedrock. Limestone</td>\n",
       "      <td>LG 100</td>\n",
       "    </tr>\n",
       "    <tr>\n",
       "      <th>33</th>\n",
       "      <td>Neferirkare Kakai</td>\n",
       "      <td>Personality (ba) of Neferirkare</td>\n",
       "      <td>Pyramid of Neferirkare</td>\n",
       "      <td>5</td>\n",
       "      <td>Abusir</td>\n",
       "      <td>72.0</td>\n",
       "      <td>72.0</td>\n",
       "      <td>52.00</td>\n",
       "      <td>53.13</td>\n",
       "      <td>257.25</td>\n",
       "      <td>29.895000</td>\n",
       "      <td>31.202500</td>\n",
       "      <td>Step</td>\n",
       "      <td>XXI</td>\n",
       "      <td>Limestone</td>\n",
       "      <td>Later converted to true type</td>\n",
       "    </tr>\n",
       "    <tr>\n",
       "      <th>57</th>\n",
       "      <td>Khendjer</td>\n",
       "      <td>-</td>\n",
       "      <td>Pyramid of Khendjer</td>\n",
       "      <td>13</td>\n",
       "      <td>South Saqqara</td>\n",
       "      <td>52.5</td>\n",
       "      <td>52.5</td>\n",
       "      <td>37.35</td>\n",
       "      <td>55.00</td>\n",
       "      <td>44.096</td>\n",
       "      <td>29.832222</td>\n",
       "      <td>31.223889</td>\n",
       "      <td>True</td>\n",
       "      <td>XLIV</td>\n",
       "      <td>Mudbrick</td>\n",
       "      <td>SIP</td>\n",
       "    </tr>\n",
       "  </tbody>\n",
       "</table>\n",
       "</div>"
      ],
      "text/plain": [
       "              Pharaoh                     Ancient name  \\\n",
       "28         Khentkawes                                -   \n",
       "33  Neferirkare Kakai  Personality (ba) of Neferirkare   \n",
       "57           Khendjer                                -   \n",
       "\n",
       "                 Modern name  Dynasty           Site  Base1 (m)  Base2 (m)  \\\n",
       "28  Step tomb of Khentkaus I        4           Giza       35.5       45.8   \n",
       "33    Pyramid of Neferirkare        5         Abusir       72.0       72.0   \n",
       "57       Pyramid of Khendjer       13  South Saqqara       52.5       52.5   \n",
       "\n",
       "    Height (m)  Slope (dec degr) Volume (cu.m)   Latitude  Longitude  Type  \\\n",
       "28       17.50             74.00         6.372  29.973306  31.135361  Step   \n",
       "33       52.00             53.13        257.25  29.895000  31.202500  Step   \n",
       "57       37.35             55.00        44.096  29.832222  31.223889  True   \n",
       "\n",
       "   Lepsius            Material                       Comment  \n",
       "28   LG100  Bedrock. Limestone                        LG 100  \n",
       "33     XXI           Limestone  Later converted to true type  \n",
       "57    XLIV            Mudbrick                           SIP  "
      ]
     },
     "execution_count": 4,
     "metadata": {},
     "output_type": "execute_result"
    }
   ],
   "source": [
    "piramides_df.dropna()"
   ]
  },
  {
   "cell_type": "markdown",
   "id": "trained-dublin",
   "metadata": {},
   "source": [
    "### Data Exploration"
   ]
  },
  {
   "cell_type": "code",
   "execution_count": 26,
   "id": "sonic-puzzle",
   "metadata": {},
   "outputs": [
    {
     "data": {
      "text/plain": [
       "array(['Step', 'Smooth-faced', 'Bent', 'True', '-', 'Smooth-sided',\n",
       "       'Mastaba', 'Cenotaph'], dtype=object)"
      ]
     },
     "execution_count": 26,
     "metadata": {},
     "output_type": "execute_result"
    }
   ],
   "source": [
    "piramides_df['Type'].unique()"
   ]
  },
  {
   "cell_type": "code",
   "execution_count": 5,
   "id": "floral-beginning",
   "metadata": {},
   "outputs": [
    {
     "name": "stdout",
     "output_type": "stream",
     "text": [
      "<class 'pandas.core.frame.DataFrame'>\n",
      "RangeIndex: 62 entries, 0 to 61\n",
      "Data columns (total 16 columns):\n",
      " #   Column            Non-Null Count  Dtype  \n",
      "---  ------            --------------  -----  \n",
      " 0   Pharaoh           62 non-null     object \n",
      " 1   Ancient name      62 non-null     object \n",
      " 2   Modern name       62 non-null     object \n",
      " 3   Dynasty           62 non-null     int64  \n",
      " 4   Site              62 non-null     object \n",
      " 5   Base1 (m)         62 non-null     float64\n",
      " 6   Base2 (m)         62 non-null     float64\n",
      " 7   Height (m)        53 non-null     float64\n",
      " 8   Slope (dec degr)  43 non-null     float64\n",
      " 9   Volume (cu.m)     33 non-null     object \n",
      " 10  Latitude          62 non-null     float64\n",
      " 11  Longitude         62 non-null     float64\n",
      " 12  Type              62 non-null     object \n",
      " 13  Lepsius           44 non-null     object \n",
      " 14  Material          61 non-null     object \n",
      " 15  Comment           21 non-null     object \n",
      "dtypes: float64(6), int64(1), object(9)\n",
      "memory usage: 7.9+ KB\n"
     ]
    }
   ],
   "source": [
    "piramides_df.info()"
   ]
  },
  {
   "cell_type": "code",
   "execution_count": 6,
   "id": "ready-chambers",
   "metadata": {},
   "outputs": [
    {
     "data": {
      "text/plain": [
       "Pharaoh              0\n",
       "Ancient name         0\n",
       "Modern name          0\n",
       "Dynasty              0\n",
       "Site                 0\n",
       "Base1 (m)            0\n",
       "Base2 (m)            0\n",
       "Height (m)           9\n",
       "Slope (dec degr)    19\n",
       "Volume (cu.m)       29\n",
       "Latitude             0\n",
       "Longitude            0\n",
       "Type                 0\n",
       "Lepsius             18\n",
       "Material             1\n",
       "Comment             41\n",
       "dtype: int64"
      ]
     },
     "execution_count": 6,
     "metadata": {},
     "output_type": "execute_result"
    }
   ],
   "source": [
    "piramides_df.isna().sum()"
   ]
  },
  {
   "cell_type": "code",
   "execution_count": 7,
   "id": "tough-thinking",
   "metadata": {},
   "outputs": [
    {
     "data": {
      "text/html": [
       "<div>\n",
       "<style scoped>\n",
       "    .dataframe tbody tr th:only-of-type {\n",
       "        vertical-align: middle;\n",
       "    }\n",
       "\n",
       "    .dataframe tbody tr th {\n",
       "        vertical-align: top;\n",
       "    }\n",
       "\n",
       "    .dataframe thead th {\n",
       "        text-align: right;\n",
       "    }\n",
       "</style>\n",
       "<table border=\"1\" class=\"dataframe\">\n",
       "  <thead>\n",
       "    <tr style=\"text-align: right;\">\n",
       "      <th></th>\n",
       "      <th>Dynasty</th>\n",
       "      <th>Base1 (m)</th>\n",
       "      <th>Base2 (m)</th>\n",
       "      <th>Height (m)</th>\n",
       "      <th>Slope (dec degr)</th>\n",
       "      <th>Latitude</th>\n",
       "      <th>Longitude</th>\n",
       "    </tr>\n",
       "  </thead>\n",
       "  <tbody>\n",
       "    <tr>\n",
       "      <th>count</th>\n",
       "      <td>62.000000</td>\n",
       "      <td>62.000000</td>\n",
       "      <td>62.000000</td>\n",
       "      <td>53.000000</td>\n",
       "      <td>43.000000</td>\n",
       "      <td>62.000000</td>\n",
       "      <td>62.000000</td>\n",
       "    </tr>\n",
       "    <tr>\n",
       "      <th>mean</th>\n",
       "      <td>6.403226</td>\n",
       "      <td>78.977581</td>\n",
       "      <td>78.463065</td>\n",
       "      <td>47.817547</td>\n",
       "      <td>57.121628</td>\n",
       "      <td>29.226241</td>\n",
       "      <td>31.319200</td>\n",
       "    </tr>\n",
       "    <tr>\n",
       "      <th>std</th>\n",
       "      <td>3.889708</td>\n",
       "      <td>54.685717</td>\n",
       "      <td>54.199409</td>\n",
       "      <td>34.198331</td>\n",
       "      <td>11.411212</td>\n",
       "      <td>1.497457</td>\n",
       "      <td>0.446828</td>\n",
       "    </tr>\n",
       "    <tr>\n",
       "      <th>min</th>\n",
       "      <td>3.000000</td>\n",
       "      <td>18.000000</td>\n",
       "      <td>18.000000</td>\n",
       "      <td>6.800000</td>\n",
       "      <td>33.000000</td>\n",
       "      <td>24.085556</td>\n",
       "      <td>30.828611</td>\n",
       "    </tr>\n",
       "    <tr>\n",
       "      <th>25%</th>\n",
       "      <td>4.000000</td>\n",
       "      <td>41.100000</td>\n",
       "      <td>44.750000</td>\n",
       "      <td>18.000000</td>\n",
       "      <td>51.920000</td>\n",
       "      <td>29.621458</td>\n",
       "      <td>31.136257</td>\n",
       "    </tr>\n",
       "    <tr>\n",
       "      <th>50%</th>\n",
       "      <td>5.000000</td>\n",
       "      <td>72.650000</td>\n",
       "      <td>72.650000</td>\n",
       "      <td>47.000000</td>\n",
       "      <td>53.130000</td>\n",
       "      <td>29.850834</td>\n",
       "      <td>31.212611</td>\n",
       "    </tr>\n",
       "    <tr>\n",
       "      <th>75%</th>\n",
       "      <td>8.000000</td>\n",
       "      <td>105.000000</td>\n",
       "      <td>105.000000</td>\n",
       "      <td>60.000000</td>\n",
       "      <td>56.785000</td>\n",
       "      <td>29.924281</td>\n",
       "      <td>31.221598</td>\n",
       "    </tr>\n",
       "    <tr>\n",
       "      <th>max</th>\n",
       "      <td>18.000000</td>\n",
       "      <td>230.300000</td>\n",
       "      <td>230.300000</td>\n",
       "      <td>146.600000</td>\n",
       "      <td>82.000000</td>\n",
       "      <td>30.470556</td>\n",
       "      <td>32.885278</td>\n",
       "    </tr>\n",
       "  </tbody>\n",
       "</table>\n",
       "</div>"
      ],
      "text/plain": [
       "         Dynasty   Base1 (m)   Base2 (m)  Height (m)  Slope (dec degr)  \\\n",
       "count  62.000000   62.000000   62.000000   53.000000         43.000000   \n",
       "mean    6.403226   78.977581   78.463065   47.817547         57.121628   \n",
       "std     3.889708   54.685717   54.199409   34.198331         11.411212   \n",
       "min     3.000000   18.000000   18.000000    6.800000         33.000000   \n",
       "25%     4.000000   41.100000   44.750000   18.000000         51.920000   \n",
       "50%     5.000000   72.650000   72.650000   47.000000         53.130000   \n",
       "75%     8.000000  105.000000  105.000000   60.000000         56.785000   \n",
       "max    18.000000  230.300000  230.300000  146.600000         82.000000   \n",
       "\n",
       "        Latitude  Longitude  \n",
       "count  62.000000  62.000000  \n",
       "mean   29.226241  31.319200  \n",
       "std     1.497457   0.446828  \n",
       "min    24.085556  30.828611  \n",
       "25%    29.621458  31.136257  \n",
       "50%    29.850834  31.212611  \n",
       "75%    29.924281  31.221598  \n",
       "max    30.470556  32.885278  "
      ]
     },
     "execution_count": 7,
     "metadata": {},
     "output_type": "execute_result"
    }
   ],
   "source": [
    "piramides_df.describe()"
   ]
  },
  {
   "cell_type": "code",
   "execution_count": 8,
   "id": "stretch-portal",
   "metadata": {},
   "outputs": [
    {
     "data": {
      "text/plain": [
       "array([ 3,  4,  5,  6,  8, 12, 13, 18])"
      ]
     },
     "execution_count": 8,
     "metadata": {},
     "output_type": "execute_result"
    }
   ],
   "source": [
    "piramides_df['Dynasty'].unique()"
   ]
  },
  {
   "cell_type": "markdown",
   "id": "norman-hartford",
   "metadata": {},
   "source": [
    "### Base Analisys"
   ]
  },
  {
   "cell_type": "code",
   "execution_count": 9,
   "id": "indoor-frequency",
   "metadata": {},
   "outputs": [
    {
     "data": {
      "text/plain": [
       "Index(['Pharaoh', 'Ancient name', 'Modern name', 'Dynasty', 'Site',\n",
       "       'Base1 (m)', 'Base2 (m)', 'Height (m)', 'Slope (dec degr)',\n",
       "       'Volume (cu.m)', 'Latitude', 'Longitude', 'Type', 'Lepsius', 'Material',\n",
       "       'Comment'],\n",
       "      dtype='object')"
      ]
     },
     "execution_count": 9,
     "metadata": {},
     "output_type": "execute_result"
    }
   ],
   "source": [
    "piramides_df.columns"
   ]
  },
  {
   "cell_type": "code",
   "execution_count": 10,
   "id": "funded-clearing",
   "metadata": {},
   "outputs": [
    {
     "data": {
      "text/plain": [
       "0     121.00\n",
       "1     120.00\n",
       "2      84.00\n",
       "3     215.00\n",
       "4      20.00\n",
       "       ...  \n",
       "57     52.50\n",
       "58     78.75\n",
       "59     45.00\n",
       "60     40.00\n",
       "61     52.50\n",
       "Name: Base1 (m), Length: 62, dtype: float64"
      ]
     },
     "execution_count": 10,
     "metadata": {},
     "output_type": "execute_result"
    }
   ],
   "source": [
    "piramides_df['Base1 (m)']"
   ]
  },
  {
   "cell_type": "code",
   "execution_count": 11,
   "id": "green-masters",
   "metadata": {},
   "outputs": [
    {
     "data": {
      "text/plain": [
       "<matplotlib.collections.PathCollection at 0x1216a4970>"
      ]
     },
     "execution_count": 11,
     "metadata": {},
     "output_type": "execute_result"
    },
    {
     "data": {
      "image/png": "[encoded data removed]",
      "text/plain": [
       "<Figure size 432x288 with 1 Axes>"
      ]
     },
     "metadata": {
      "needs_background": "light"
     },
     "output_type": "display_data"
    }
   ],
   "source": [
    "plt.scatter(piramides_df['Base1 (m)'], piramides_df['Base2 (m)'])"
   ]
  },
  {
   "cell_type": "code",
   "execution_count": 12,
   "id": "special-particular",
   "metadata": {},
   "outputs": [
    {
     "data": {
      "text/html": [
       "<div>\n",
       "<style scoped>\n",
       "    .dataframe tbody tr th:only-of-type {\n",
       "        vertical-align: middle;\n",
       "    }\n",
       "\n",
       "    .dataframe tbody tr th {\n",
       "        vertical-align: top;\n",
       "    }\n",
       "\n",
       "    .dataframe thead th {\n",
       "        text-align: right;\n",
       "    }\n",
       "</style>\n",
       "<table border=\"1\" class=\"dataframe\">\n",
       "  <thead>\n",
       "    <tr style=\"text-align: right;\">\n",
       "      <th></th>\n",
       "      <th>Pharaoh</th>\n",
       "      <th>Ancient name</th>\n",
       "      <th>Modern name</th>\n",
       "      <th>Dynasty</th>\n",
       "      <th>Site</th>\n",
       "      <th>Base1 (m)</th>\n",
       "      <th>Base2 (m)</th>\n",
       "      <th>Height (m)</th>\n",
       "      <th>Slope (dec degr)</th>\n",
       "      <th>Volume (cu.m)</th>\n",
       "      <th>Latitude</th>\n",
       "      <th>Longitude</th>\n",
       "      <th>Type</th>\n",
       "      <th>Lepsius</th>\n",
       "      <th>Material</th>\n",
       "      <th>Comment</th>\n",
       "    </tr>\n",
       "  </thead>\n",
       "  <tbody>\n",
       "    <tr>\n",
       "      <th>0</th>\n",
       "      <td>Djoser</td>\n",
       "      <td>Hiemlender</td>\n",
       "      <td>Step Pyramid of Djoser</td>\n",
       "      <td>3</td>\n",
       "      <td>Saqqara</td>\n",
       "      <td>121.0</td>\n",
       "      <td>109.0</td>\n",
       "      <td>60.0</td>\n",
       "      <td>NaN</td>\n",
       "      <td>330.4</td>\n",
       "      <td>29.871215</td>\n",
       "      <td>31.216644</td>\n",
       "      <td>Step</td>\n",
       "      <td>XXXII</td>\n",
       "      <td>Mudbrick</td>\n",
       "      <td>NaN</td>\n",
       "    </tr>\n",
       "    <tr>\n",
       "      <th>27</th>\n",
       "      <td>Shepseskaf</td>\n",
       "      <td>The Purified Pyramid</td>\n",
       "      <td>Mastabat al-Fir'aun</td>\n",
       "      <td>4</td>\n",
       "      <td>Giza</td>\n",
       "      <td>99.6</td>\n",
       "      <td>74.4</td>\n",
       "      <td>18.0</td>\n",
       "      <td>70.0</td>\n",
       "      <td>148.271</td>\n",
       "      <td>29.838889</td>\n",
       "      <td>31.215000</td>\n",
       "      <td>Step</td>\n",
       "      <td>NaN</td>\n",
       "      <td>Sandstone. Granite. Limestone</td>\n",
       "      <td>Mastaba</td>\n",
       "    </tr>\n",
       "    <tr>\n",
       "      <th>28</th>\n",
       "      <td>Khentkawes</td>\n",
       "      <td>-</td>\n",
       "      <td>Step tomb of Khentkaus I</td>\n",
       "      <td>4</td>\n",
       "      <td>Giza</td>\n",
       "      <td>35.5</td>\n",
       "      <td>45.8</td>\n",
       "      <td>17.5</td>\n",
       "      <td>74.0</td>\n",
       "      <td>6.372</td>\n",
       "      <td>29.973306</td>\n",
       "      <td>31.135361</td>\n",
       "      <td>Step</td>\n",
       "      <td>LG100</td>\n",
       "      <td>Bedrock. Limestone</td>\n",
       "      <td>LG 100</td>\n",
       "    </tr>\n",
       "    <tr>\n",
       "      <th>46</th>\n",
       "      <td>Khui</td>\n",
       "      <td>-</td>\n",
       "      <td>Pyramid of Khui</td>\n",
       "      <td>8</td>\n",
       "      <td>Dara</td>\n",
       "      <td>146.0</td>\n",
       "      <td>136.0</td>\n",
       "      <td>15.0</td>\n",
       "      <td>NaN</td>\n",
       "      <td>NaN</td>\n",
       "      <td>27.307778</td>\n",
       "      <td>30.871667</td>\n",
       "      <td>Step</td>\n",
       "      <td>NaN</td>\n",
       "      <td>Limestone</td>\n",
       "      <td>FIP</td>\n",
       "    </tr>\n",
       "    <tr>\n",
       "      <th>59</th>\n",
       "      <td>Neferhotep I</td>\n",
       "      <td>-</td>\n",
       "      <td>Tomb S9</td>\n",
       "      <td>13</td>\n",
       "      <td>Abydos</td>\n",
       "      <td>45.0</td>\n",
       "      <td>60.0</td>\n",
       "      <td>NaN</td>\n",
       "      <td>NaN</td>\n",
       "      <td>NaN</td>\n",
       "      <td>26.171389</td>\n",
       "      <td>31.925000</td>\n",
       "      <td>Mastaba</td>\n",
       "      <td>NaN</td>\n",
       "      <td>Mudbrick</td>\n",
       "      <td>SIP</td>\n",
       "    </tr>\n",
       "    <tr>\n",
       "      <th>60</th>\n",
       "      <td>Sobekhotep IV</td>\n",
       "      <td>-</td>\n",
       "      <td>Tomb S10</td>\n",
       "      <td>13</td>\n",
       "      <td>Abydos</td>\n",
       "      <td>40.0</td>\n",
       "      <td>30.0</td>\n",
       "      <td>NaN</td>\n",
       "      <td>NaN</td>\n",
       "      <td>NaN</td>\n",
       "      <td>26.171111</td>\n",
       "      <td>31.924167</td>\n",
       "      <td>Mastaba</td>\n",
       "      <td>NaN</td>\n",
       "      <td>Mudbrick</td>\n",
       "      <td>SIP</td>\n",
       "    </tr>\n",
       "  </tbody>\n",
       "</table>\n",
       "</div>"
      ],
      "text/plain": [
       "          Pharaoh          Ancient name               Modern name  Dynasty  \\\n",
       "0          Djoser            Hiemlender    Step Pyramid of Djoser        3   \n",
       "27     Shepseskaf  The Purified Pyramid       Mastabat al-Fir'aun        4   \n",
       "28     Khentkawes                     -  Step tomb of Khentkaus I        4   \n",
       "46           Khui                     -           Pyramid of Khui        8   \n",
       "59   Neferhotep I                     -                   Tomb S9       13   \n",
       "60  Sobekhotep IV                     -                  Tomb S10       13   \n",
       "\n",
       "       Site  Base1 (m)  Base2 (m)  Height (m)  Slope (dec degr) Volume (cu.m)  \\\n",
       "0   Saqqara      121.0      109.0        60.0               NaN         330.4   \n",
       "27     Giza       99.6       74.4        18.0              70.0       148.271   \n",
       "28     Giza       35.5       45.8        17.5              74.0         6.372   \n",
       "46     Dara      146.0      136.0        15.0               NaN           NaN   \n",
       "59   Abydos       45.0       60.0         NaN               NaN           NaN   \n",
       "60   Abydos       40.0       30.0         NaN               NaN           NaN   \n",
       "\n",
       "     Latitude  Longitude     Type Lepsius                       Material  \\\n",
       "0   29.871215  31.216644     Step   XXXII                       Mudbrick   \n",
       "27  29.838889  31.215000     Step     NaN  Sandstone. Granite. Limestone   \n",
       "28  29.973306  31.135361     Step   LG100             Bedrock. Limestone   \n",
       "46  27.307778  30.871667     Step     NaN                      Limestone   \n",
       "59  26.171389  31.925000  Mastaba     NaN                       Mudbrick   \n",
       "60  26.171111  31.924167  Mastaba     NaN                       Mudbrick   \n",
       "\n",
       "    Comment  \n",
       "0       NaN  \n",
       "27  Mastaba  \n",
       "28   LG 100  \n",
       "46      FIP  \n",
       "59      SIP  \n",
       "60      SIP  "
      ]
     },
     "execution_count": 12,
     "metadata": {},
     "output_type": "execute_result"
    }
   ],
   "source": [
    "piramides_df[piramides_df['Base1 (m)'] != piramides_df['Base2 (m)']]"
   ]
  },
  {
   "cell_type": "code",
   "execution_count": 24,
   "id": "strange-liechtenstein",
   "metadata": {},
   "outputs": [
    {
     "name": "stderr",
     "output_type": "stream",
     "text": [
      "/Users/netoconcon/.pyenv/versions/3.8.6/envs/lewagon/lib/python3.8/site-packages/seaborn/_decorators.py:36: FutureWarning: Pass the following variable as a keyword arg: x. From version 0.12, the only valid positional argument will be `data`, and passing other arguments without an explicit keyword will result in an error or misinterpretation.\n",
      "  warnings.warn(\n"
     ]
    },
    {
     "data": {
      "text/plain": [
       "<AxesSubplot:xlabel='Dynasty', ylabel='count'>"
      ]
     },
     "execution_count": 24,
     "metadata": {},
     "output_type": "execute_result"
    },
    {
     "data": {
      "image/png": "[encoded data removed]",
      "text/plain": [
       "<Figure size 432x288 with 1 Axes>"
      ]
     },
     "metadata": {
      "needs_background": "light"
     },
     "output_type": "display_data"
    }
   ],
   "source": [
    "# piramides_df['Counter'] = 1\n",
    "# piramides_df\n",
    "\n",
    "sns.countplot(piramides_df.Dynasty)"
   ]
  },
  {
   "cell_type": "markdown",
   "id": "sitting-special",
   "metadata": {},
   "source": [
    "### Dysnasty Analysis"
   ]
  },
  {
   "cell_type": "code",
   "execution_count": 14,
   "id": "metallic-master",
   "metadata": {},
   "outputs": [
    {
     "ename": "NameError",
     "evalue": "name 'dynasty_df' is not defined",
     "output_type": "error",
     "traceback": [
      "\u001b[0;31m---------------------------------------------------------------------------\u001b[0m",
      "\u001b[0;31mNameError\u001b[0m                                 Traceback (most recent call last)",
      "\u001b[0;32m<ipython-input-14-43e7c062dac9>\u001b[0m in \u001b[0;36m<module>\u001b[0;34m\u001b[0m\n\u001b[0;32m----> 1\u001b[0;31m \u001b[0mplt\u001b[0m\u001b[0;34m.\u001b[0m\u001b[0mbar\u001b[0m\u001b[0;34m(\u001b[0m\u001b[0mdynasty_df\u001b[0m\u001b[0;34m[\u001b[0m\u001b[0;34m'Dynasty'\u001b[0m\u001b[0;34m]\u001b[0m\u001b[0;34m,\u001b[0m \u001b[0mdynasty_df\u001b[0m\u001b[0;34m[\u001b[0m\u001b[0;34m'Counter'\u001b[0m\u001b[0;34m]\u001b[0m\u001b[0;34m[\u001b[0m\u001b[0;34m'sum'\u001b[0m\u001b[0;34m]\u001b[0m\u001b[0;34m)\u001b[0m\u001b[0;34m\u001b[0m\u001b[0;34m\u001b[0m\u001b[0m\n\u001b[0m",
      "\u001b[0;31mNameError\u001b[0m: name 'dynasty_df' is not defined"
     ]
    }
   ],
   "source": [
    "plt.bar(dynasty_df['Dynasty'], dynasty_df['Counter']['sum'])"
   ]
  },
  {
   "cell_type": "code",
   "execution_count": null,
   "id": "molecular-fluid",
   "metadata": {},
   "outputs": [],
   "source": [
    "sns.boxplot(x=\"Dynasty\", y=\"Height (m)\", data=piramides_df)"
   ]
  },
  {
   "cell_type": "code",
   "execution_count": null,
   "id": "binding-initial",
   "metadata": {},
   "outputs": [],
   "source": [
    "sns.boxplot(x=\"Dynasty\", y=\"Base1 (m)\", data=piramides_df)"
   ]
  },
  {
   "cell_type": "code",
   "execution_count": null,
   "id": "quantitative-convertible",
   "metadata": {},
   "outputs": [],
   "source": [
    "sns.boxplot(x=\"Dynasty\", y=\"Slope (dec degr)\", data=piramides_df)"
   ]
  },
  {
   "cell_type": "code",
   "execution_count": null,
   "id": "caring-walnut",
   "metadata": {},
   "outputs": [],
   "source": [
    "sns.catplot(x='Latitude', y='Height (m)', data=piramides_df)"
   ]
  },
  {
   "cell_type": "code",
   "execution_count": null,
   "id": "critical-cream",
   "metadata": {},
   "outputs": [],
   "source": [
    "sns.catplot(x='Latitude', y='Slope (dec degr)', data=piramides_df)"
   ]
  },
  {
   "cell_type": "code",
   "execution_count": 19,
   "id": "valid-deputy",
   "metadata": {},
   "outputs": [
    {
     "data": {
      "text/plain": [
       "<AxesSubplot:>"
      ]
     },
     "execution_count": 19,
     "metadata": {},
     "output_type": "execute_result"
    },
    {
     "data": {
      "image/png": "[encoded data removed]",
      "text/plain": [
       "<Figure size 432x288 with 2 Axes>"
      ]
     },
     "metadata": {
      "needs_background": "light"
     },
     "output_type": "display_data"
    }
   ],
   "source": [
    "sns.heatmap(piramides_df.corr()** 2)"
   ]
  },
  {
   "cell_type": "code",
   "execution_count": 20,
   "id": "american-session",
   "metadata": {},
   "outputs": [
    {
     "ename": "SyntaxError",
     "evalue": "invalid syntax (<ipython-input-20-d5ffa60f3866>, line 1)",
     "output_type": "error",
     "traceback": [
      "\u001b[0;36m  File \u001b[0;32m\"<ipython-input-20-d5ffa60f3866>\"\u001b[0;36m, line \u001b[0;32m1\u001b[0m\n\u001b[0;31m    fazer um one hot enconder das features categoricas\u001b[0m\n\u001b[0m          ^\u001b[0m\n\u001b[0;31mSyntaxError\u001b[0m\u001b[0;31m:\u001b[0m invalid syntax\n"
     ]
    }
   ],
   "source": [
    "# fazer um one hot enconder das features categoricas\n"
   ]
  }
 ],
 "metadata": {
  "kernelspec": {
   "display_name": "Python 3",
   "language": "python",
   "name": "python3"
  },
  "language_info": {
   "codemirror_mode": {
    "name": "ipython",
    "version": 3
   },
   "file_extension": ".py",
   "mimetype": "text/x-python",
   "name": "python",
   "nbconvert_exporter": "python",
   "pygments_lexer": "ipython3",
   "version": "3.8.6"
  }
 },
 "nbformat": 4,
 "nbformat_minor": 5
}
